{
 "cells": [
  {
   "cell_type": "code",
   "execution_count": null,
   "id": "1e52a262",
   "metadata": {},
   "outputs": [],
   "source": [
    "import dlt\n",
    "from pyspark.sql.functions import current_timestamp, input_file_name\n",
    "\n",
    "@dlt.table(\n",
    "    name=\"region\",\n",
    "    comment=\"Ingested region data from source to bronze\",\n",
    "    table_properties={\"quality\": \"bronze\"}\n",
    ")\n",
    "def load_region():\n",
    "    df = (\n",
    "        spark.read.format(\"parquet\")\n",
    "        .load(\"abfss://source@endtoendadls.dfs.core.windows.net/regions\")\n",
    "        .withColumn(\"file_name\", input_file_name())\n",
    "        .withColumn(\"ingestion_ts\", current_timestamp())\n",
    "    )\n",
    "    return df"
   ]
  }
 ],
 "metadata": {
  "language_info": {
   "name": "python"
  }
 },
 "nbformat": 4,
 "nbformat_minor": 5
}
